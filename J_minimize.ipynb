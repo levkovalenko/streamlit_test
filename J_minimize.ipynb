{
 "cells": [
  {
   "cell_type": "code",
   "execution_count": null,
   "id": "45673cdb",
   "metadata": {},
   "outputs": [],
   "source": [
    "from minimizer import (\n",
    "    ExperimentRunner,\n",
    "    ExponentialExperimentGenerator,\n",
    "    MinimizeExperiment,\n",
    "    RandomExperimentGenerator,\n",
    ")\n",
    "\n",
    "runner = ExperimentRunner(RandomExperimentGenerator(1, 10, MinimizeExperiment))\n",
    "\n",
    "runner.run(True, method=\"Nelder-Mead\")\n",
    "runner.analyze_results()"
   ]
  },
  {
   "cell_type": "code",
   "execution_count": null,
   "id": "d393d9f3",
   "metadata": {},
   "outputs": [],
   "source": [
    "from itertools import product\n",
    "\n",
    "runers = []\n",
    "results = []\n",
    "for expgen, method, vector_size in product(\n",
    "    [RandomExperimentGenerator, ExponentialExperimentGenerator],\n",
    "    [\"Nelder-Mead\"],  # , \"L-BFGS-B\", \"TNC\"],\n",
    "    [6, 10, 15, 21],\n",
    "):\n",
    "    runner = ExperimentRunner(expgen(10000, vector_size, MinimizeExperiment))\n",
    "    runner.run(False, method=method)\n",
    "    results.append(\n",
    "        {\n",
    "            \"method\": method,\n",
    "            \"gen_strategy\": str(runner.experiment_generator),\n",
    "            \"vector_size\": vector_size,\n",
    "        }\n",
    "        | runner.info\n",
    "    )\n",
    "    runner.analyze_results()\n",
    "    runers.append(runner)"
   ]
  },
  {
   "cell_type": "code",
   "execution_count": null,
   "id": "71e3647f",
   "metadata": {},
   "outputs": [],
   "source": [
    "import pandas as pd\n",
    "\n",
    "print(\n",
    "    pd.DataFrame(results)\n",
    "    .sort_values([\"method\", \"gen_strategy\", \"vector_size\"])\n",
    "    .reset_index(drop=True)\n",
    "    .set_index([\"method\", \"gen_strategy\", \"vector_size\"])\n",
    "    .to_latex(\n",
    "        multirow=True,\n",
    "        multicolumn=True,\n",
    "    )\n",
    ")"
   ]
  }
 ],
 "metadata": {
  "kernelspec": {
   "display_name": "mat-model-nadya",
   "language": "python",
   "name": "python3"
  },
  "language_info": {
   "codemirror_mode": {
    "name": "ipython",
    "version": 3
   },
   "file_extension": ".py",
   "mimetype": "text/x-python",
   "name": "python",
   "nbconvert_exporter": "python",
   "pygments_lexer": "ipython3",
   "version": "3.13.5"
  }
 },
 "nbformat": 4,
 "nbformat_minor": 5
}
